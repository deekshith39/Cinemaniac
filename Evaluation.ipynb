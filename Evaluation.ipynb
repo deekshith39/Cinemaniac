{
 "cells": [
  {
   "cell_type": "markdown",
   "metadata": {},
   "source": [
    "### Importing the RMSE values"
   ]
  },
  {
   "cell_type": "code",
   "execution_count": 1,
   "metadata": {},
   "outputs": [],
   "source": [
    "from ModelBasedCollaborativeFiltering import rmseKNN\n",
    "from ModelBasedCollaborativeFiltering import rmseSVD"
   ]
  },
  {
   "cell_type": "code",
   "execution_count": 2,
   "metadata": {},
   "outputs": [],
   "source": [
    "from ContentBasedFiltering import rmseContentBased\n",
    "from UserBasedCF import rmseUserBased\n",
    "from ItemBasedCF import rmseItemBased"
   ]
  },
  {
   "cell_type": "code",
   "execution_count": 3,
   "metadata": {},
   "outputs": [],
   "source": [
    "import pandas as pd\n",
    "import numpy as np\n",
    "import matplotlib.pyplot as plt\n",
    "import seaborn as sns\n",
    "%matplotlib inline"
   ]
  },
  {
   "cell_type": "markdown",
   "metadata": {},
   "source": [
    "### Evaluating using RMSE"
   ]
  },
  {
   "attachments": {
    "RMSE.png": {
     "image/png": "[encoded data removed]"
    }
   },
   "cell_type": "markdown",
   "metadata": {},
   "source": [
    "We use RMSE(Root Mean Square Error) to evaluate the recommendations.\n",
    "\n",
    "Lower values of RMSE indicate better fit. RMSE is a good measure of how accurately the model predicts the response, and it is the most important criterion for fit if the main purpose of the model is prediction.\n",
    "\n",
    "![RMSE.png](attachment:RMSE.png)"
   ]
  },
  {
   "cell_type": "markdown",
   "metadata": {},
   "source": [
    "### KNN "
   ]
  },
  {
   "cell_type": "code",
   "execution_count": 10,
   "metadata": {},
   "outputs": [
    {
     "name": "stdout",
     "output_type": "stream",
     "text": [
      "Computing the msd similarity matrix...\n",
      "Done computing similarity matrix.\n",
      "Computing the msd similarity matrix...\n",
      "Done computing similarity matrix.\n",
      "Computing the msd similarity matrix...\n",
      "Done computing similarity matrix.\n",
      "Computing the msd similarity matrix...\n",
      "Done computing similarity matrix.\n",
      "Computing the msd similarity matrix...\n",
      "Done computing similarity matrix.\n",
      "Evaluating RMSE of algorithm KNNBasic on 5 split(s).\n",
      "\n",
      "                  Fold 1  Fold 2  Fold 3  Fold 4  Fold 5  Mean    Std     \n",
      "RMSE (testset)    0.9424  0.9405  0.9351  0.9434  0.9460  0.9415  0.0036  \n",
      "Fit time          0.20    0.21    0.22    0.23    0.22    0.22    0.01    \n",
      "Test time         1.46    1.42    1.50    1.46    1.49    1.47    0.03    \n",
      "Computing the msd similarity matrix...\n",
      "Done computing similarity matrix.\n",
      "Computing the msd similarity matrix...\n",
      "Done computing similarity matrix.\n",
      "Computing the msd similarity matrix...\n",
      "Done computing similarity matrix.\n",
      "Computing the msd similarity matrix...\n",
      "Done computing similarity matrix.\n",
      "Computing the msd similarity matrix...\n",
      "Done computing similarity matrix.\n",
      "Computing the msd similarity matrix...\n",
      "Done computing similarity matrix.\n",
      "Computing the msd similarity matrix...\n",
      "Done computing similarity matrix.\n",
      "Computing the msd similarity matrix...\n",
      "Done computing similarity matrix.\n",
      "Computing the msd similarity matrix...\n",
      "Done computing similarity matrix.\n",
      "Computing the msd similarity matrix...\n",
      "Done computing similarity matrix.\n",
      "Computing the msd similarity matrix...\n",
      "Done computing similarity matrix.\n",
      "Computing the msd similarity matrix...\n",
      "Done computing similarity matrix.\n",
      "Computing the msd similarity matrix...\n",
      "Done computing similarity matrix.\n",
      "Computing the msd similarity matrix...\n",
      "Done computing similarity matrix.\n",
      "Computing the msd similarity matrix...\n",
      "Done computing similarity matrix.\n",
      "\n",
      "\n",
      "###############\n",
      "Best Score : 0.9483275560687854\n",
      "Best Parameters : {'n_neighbours': 10}\n",
      "###############\n"
     ]
    }
   ],
   "source": [
    "KNNrmse = rmseKNN()"
   ]
  },
  {
   "cell_type": "markdown",
   "metadata": {},
   "source": [
    "### SVD"
   ]
  },
  {
   "cell_type": "code",
   "execution_count": 11,
   "metadata": {},
   "outputs": [
    {
     "name": "stdout",
     "output_type": "stream",
     "text": [
      "Evaluating RMSE of algorithm SVD on 5 split(s).\n",
      "\n",
      "                  Fold 1  Fold 2  Fold 3  Fold 4  Fold 5  Mean    Std     \n",
      "RMSE (testset)    0.8771  0.8693  0.8752  0.8761  0.8701  0.8736  0.0032  \n",
      "Fit time          5.47    5.01    5.08    5.10    5.09    5.15    0.16    \n",
      "Test time         0.55    0.20    0.13    0.13    0.20    0.24    0.16    \n",
      "\n",
      "###############\n",
      "Best Score : 0.8630719085206107\n",
      "Best Parameters : {'n_factors': 75, 'lr_all': 0.05, 'reg_all': 0.06}\n",
      "###############\n"
     ]
    }
   ],
   "source": [
    "SVDrmse = rmseSVD()"
   ]
  },
  {
   "cell_type": "markdown",
   "metadata": {},
   "source": [
    "### Content Based"
   ]
  },
  {
   "cell_type": "code",
   "execution_count": 12,
   "metadata": {},
   "outputs": [
    {
     "name": "stdout",
     "output_type": "stream",
     "text": [
      "The RMSE value is : 2.5685514771875226\n"
     ]
    }
   ],
   "source": [
    "ContentBasedrmse = rmseContentBased()"
   ]
  },
  {
   "cell_type": "markdown",
   "metadata": {},
   "source": [
    "### Collaborative Filtering (User Based)"
   ]
  },
  {
   "cell_type": "code",
   "execution_count": 13,
   "metadata": {},
   "outputs": [
    {
     "name": "stdout",
     "output_type": "stream",
     "text": [
      "The RMSE value is : 0.5241987986851233\n"
     ]
    }
   ],
   "source": [
    "UserBasedCF = rmseUserBased()"
   ]
  },
  {
   "cell_type": "markdown",
   "metadata": {},
   "source": [
    "### Collaborative Filtering (Item Based)"
   ]
  },
  {
   "cell_type": "code",
   "execution_count": 14,
   "metadata": {},
   "outputs": [
    {
     "name": "stdout",
     "output_type": "stream",
     "text": [
      "The RMSE value is : 1.0687923012602283\n"
     ]
    }
   ],
   "source": [
    "ItemBasedCF = rmseItemBased()"
   ]
  },
  {
   "cell_type": "markdown",
   "metadata": {},
   "source": [
    "### Evaluating for the best Algorithm/Technique"
   ]
  },
  {
   "cell_type": "code",
   "execution_count": 15,
   "metadata": {},
   "outputs": [],
   "source": [
    "test = []\n",
    "rmse_values = []"
   ]
  },
  {
   "cell_type": "code",
   "execution_count": 16,
   "metadata": {},
   "outputs": [],
   "source": [
    "test.append(\"KNN (Model Based)\")\n",
    "test.append(\"SVD (Model Based)\")\n",
    "test.append(\"Content Based\")\n",
    "test.append(\"CF (User Based)\")\n",
    "test.append(\"CF (Item Based)\")"
   ]
  },
  {
   "cell_type": "code",
   "execution_count": 17,
   "metadata": {},
   "outputs": [],
   "source": [
    "rmse_values.append(KNNrmse)\n",
    "rmse_values.append(SVDrmse)\n",
    "rmse_values.append(ContentBasedrmse)\n",
    "rmse_values.append(UserBasedCF)\n",
    "rmse_values.append(ItemBasedCF)"
   ]
  },
  {
   "cell_type": "code",
   "execution_count": 18,
   "metadata": {},
   "outputs": [
    {
     "data": {
      "text/html": [
       "<div>\n",
       "<style scoped>\n",
       "    .dataframe tbody tr th:only-of-type {\n",
       "        vertical-align: middle;\n",
       "    }\n",
       "\n",
       "    .dataframe tbody tr th {\n",
       "        vertical-align: top;\n",
       "    }\n",
       "\n",
       "    .dataframe thead th {\n",
       "        text-align: right;\n",
       "    }\n",
       "</style>\n",
       "<table border=\"1\" class=\"dataframe\">\n",
       "  <thead>\n",
       "    <tr style=\"text-align: right;\">\n",
       "      <th></th>\n",
       "      <th>Test</th>\n",
       "      <th>RMSE</th>\n",
       "    </tr>\n",
       "  </thead>\n",
       "  <tbody>\n",
       "    <tr>\n",
       "      <th>0</th>\n",
       "      <td>KNN (Model Based)</td>\n",
       "      <td>0.948328</td>\n",
       "    </tr>\n",
       "    <tr>\n",
       "      <th>1</th>\n",
       "      <td>SVD (Model Based)</td>\n",
       "      <td>0.863072</td>\n",
       "    </tr>\n",
       "    <tr>\n",
       "      <th>2</th>\n",
       "      <td>Content Based</td>\n",
       "      <td>2.568551</td>\n",
       "    </tr>\n",
       "    <tr>\n",
       "      <th>3</th>\n",
       "      <td>CF (User Based)</td>\n",
       "      <td>0.524199</td>\n",
       "    </tr>\n",
       "    <tr>\n",
       "      <th>4</th>\n",
       "      <td>CF (Item Based)</td>\n",
       "      <td>1.068792</td>\n",
       "    </tr>\n",
       "  </tbody>\n",
       "</table>\n",
       "</div>"
      ],
      "text/plain": [
       "                Test      RMSE\n",
       "0  KNN (Model Based)  0.948328\n",
       "1  SVD (Model Based)  0.863072\n",
       "2      Content Based  2.568551\n",
       "3    CF (User Based)  0.524199\n",
       "4    CF (Item Based)  1.068792"
      ]
     },
     "execution_count": 18,
     "metadata": {},
     "output_type": "execute_result"
    }
   ],
   "source": [
    "rmse_df = pd.DataFrame({\"Test\": test, \"RMSE\": rmse_values})\n",
    "rmse_df"
   ]
  },
  {
   "cell_type": "code",
   "execution_count": 19,
   "metadata": {
    "scrolled": false
   },
   "outputs": [
    {
     "data": {
      "image/png": "[encoded data removed]",
      "text/plain": [
       "<Figure size 576x432 with 1 Axes>"
      ]
     },
     "metadata": {
      "needs_background": "light"
     },
     "output_type": "display_data"
    }
   ],
   "source": [
    "plt.figure(figsize = (8 , 6 ))\n",
    "plt.grid(True)\n",
    "sns.barplot(x = \"Test\" , y = \"RMSE\" , data = rmse_df)\n",
    "plt.xticks(color = \"brown\" , fontsize = 10 )\n",
    "plt.xlabel(\"TEST\", color = \"black\", fontsize = 20)\n",
    "plt.ylabel(\"RMSE Scores\" , color = \"black\" ,  fontsize = 20)\n",
    "plt.tight_layout()\n",
    "plt.savefig(\"rmseBarChart\")\n",
    "plt.show()"
   ]
  },
  {
   "cell_type": "code",
   "execution_count": 20,
   "metadata": {
    "scrolled": false
   },
   "outputs": [
    {
     "data": {
      "image/png": "[encoded data removed]",
      "text/plain": [
       "<Figure size 576x432 with 1 Axes>"
      ]
     },
     "metadata": {
      "needs_background": "light"
     },
     "output_type": "display_data"
    }
   ],
   "source": [
    "plt.figure(figsize = (8 , 6 ))\n",
    "plt.grid(True)\n",
    "plt.plot(test , rmse_values , marker = \"*\")\n",
    "plt.ylabel(\"RMSE Scores\" , color = \"black\" ,  fontsize = 20)\n",
    "plt.xlabel(\"TEST\", color = \"black\", fontsize = 20)\n",
    "plt.xticks(color = \"magenta\" , fontsize = 15 , rotation = 20 )\n",
    "plt.tight_layout()\n",
    "plt.savefig(\"rmseLineChart.png\")\n",
    "plt.show()"
   ]
  },
  {
   "cell_type": "markdown",
   "metadata": {},
   "source": [
    "### Conclusion"
   ]
  },
  {
   "cell_type": "markdown",
   "metadata": {},
   "source": [
    "From the above Inferences, we can conclude that Collaborative Filtering (User Based) is better algorithm for recommender system using MovieLens 100k Datasest since it has a lower RMSE value compared to others."
   ]
  },
  {
   "cell_type": "code",
   "execution_count": null,
   "metadata": {},
   "outputs": [],
   "source": []
  }
 ],
 "metadata": {
  "kernelspec": {
   "display_name": "Python 3",
   "language": "python",
   "name": "python3"
  },
  "language_info": {
   "codemirror_mode": {
    "name": "ipython",
    "version": 3
   },
   "file_extension": ".py",
   "mimetype": "text/x-python",
   "name": "python",
   "nbconvert_exporter": "python",
   "pygments_lexer": "ipython3",
   "version": "3.7.6"
  }
 },
 "nbformat": 4,
 "nbformat_minor": 4
}
